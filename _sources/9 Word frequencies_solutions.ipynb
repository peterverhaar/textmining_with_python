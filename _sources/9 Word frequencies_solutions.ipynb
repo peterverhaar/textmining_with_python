{
 "cells": [
  {
   "cell_type": "markdown",
   "metadata": {},
   "source": [
    "# 9. Word frequencies\n"
   ]
  },
  {
   "cell_type": "markdown",
   "metadata": {},
   "source": [
    "### Exercise 9.1.\n",
    "\n",
    "The 'Corpus' folder contains the full text of the novel *Pride and Prejudice*. Use this text file to answer the following questions. \n",
    "\n",
    "* How many words does the novel contain?\n",
    "* What are the 25 most frequent words of the novel?\n",
    "* How many times does the novel contain the token 'Darcy'?"
   ]
  },
  {
   "cell_type": "code",
   "execution_count": 6,
   "metadata": {},
   "outputs": [
    {
     "name": "stdout",
     "output_type": "stream",
     "text": [
      "The novel contains 120081 words.\n",
      "to => 4076\n",
      "the => 4056\n",
      "of => 3605\n",
      "and => 3371\n",
      "her => 2131\n",
      "I => 2020\n",
      "a => 1874\n",
      "was => 1842\n",
      "in => 1783\n",
      "that => 1520\n",
      "not => 1506\n",
      "she => 1378\n",
      "it => 1273\n",
      "be => 1230\n",
      "his => 1191\n",
      "had => 1148\n",
      "you => 1137\n",
      "as => 1132\n",
      "he => 1096\n",
      "for => 1029\n",
      "with => 1017\n",
      "have => 836\n",
      "is => 835\n",
      "him => 761\n",
      "at => 737\n",
      "The word \"Darcy\" occurs 415 times.\n"
     ]
    }
   ],
   "source": [
    "import nltk\n",
    "from collections import Counter\n",
    "\n",
    "\n",
    "def remove_punctuation(words):\n",
    "    new_list= []\n",
    "    for w in words:\n",
    "        if w.isalnum():\n",
    "            new_list.append( w )\n",
    "    return new_list\n",
    "\n",
    "text_file = open('Corpus/PrideAndPrejudice.txt',encoding='utf-8')\n",
    "full_text = text_file.read()\n",
    "\n",
    "words = nltk.word_tokenize(full_text)\n",
    "words = remove_punctuation(words)\n",
    "\n",
    "print(f\"The novel contains {len(words)} words.\")\n",
    "\n",
    "freq = Counter(words)\n",
    "\n",
    "for word,count in freq.most_common(25):\n",
    "    print(f\"{word} => {count}\")\n",
    "    \n",
    "keyword = 'Darcy'\n",
    "print(f'The word \"{keyword}\" occurs {freq[keyword]} times.')\n",
    "    "
   ]
  },
  {
   "cell_type": "markdown",
   "metadata": {},
   "source": [
    "## Exercise 9.2.\n",
    "\n",
    "What are the 25 most frequent words in *Brave New Worls*, if you disregard all the words that are on the `nltk` list of English stopwords? "
   ]
  },
  {
   "cell_type": "code",
   "execution_count": 10,
   "metadata": {},
   "outputs": [
    {
     "name": "stdout",
     "output_type": "stream",
     "text": [
      "said => 315\n",
      "one => 262\n",
      "bernard => 238\n",
      "savage => 201\n",
      "lenina => 195\n",
      "like => 181\n",
      "would => 116\n",
      "could => 116\n",
      "made => 112\n",
      "time => 112\n",
      "man => 111\n",
      "little => 111\n",
      "round => 108\n",
      "voice => 106\n",
      "eyes => 102\n",
      "linda => 101\n",
      "face => 100\n",
      "though => 97\n",
      "two => 97\n",
      "away => 94\n",
      "director => 93\n",
      "went => 92\n",
      "still => 91\n",
      "back => 91\n",
      "know => 90\n"
     ]
    }
   ],
   "source": [
    "def remove_punctuation_and_stopwords(words):\n",
    "    new_list= []\n",
    "    for w in words:\n",
    "        if w.isalnum() and w not in stopwords:\n",
    "            new_list.append( w )\n",
    "    return new_list\n",
    "\n",
    "import nltk\n",
    "from collections import Counter\n",
    "\n",
    "from nltk.corpus import stopwords\n",
    "stopwords = stopwords.words('english')\n",
    "\n",
    "text_file = open('Corpus/BraveNewWorld.txt',encoding='utf-8')\n",
    "full_text = text_file.read()\n",
    "\n",
    "words = nltk.word_tokenize(full_text.lower())\n",
    "words = remove_punctuation_and_stopwords(words)\n",
    "\n",
    "freq = Counter(words)\n",
    "\n",
    "for word,count in freq.most_common(25):\n",
    "    print(f\"{word} => {count}\")\n",
    "    "
   ]
  }
 ],
 "metadata": {
  "kernelspec": {
   "display_name": "Python 3 (ipykernel)",
   "language": "python",
   "name": "python3"
  },
  "language_info": {
   "codemirror_mode": {
    "name": "ipython",
    "version": 3
   },
   "file_extension": ".py",
   "mimetype": "text/x-python",
   "name": "python",
   "nbconvert_exporter": "python",
   "pygments_lexer": "ipython3",
   "version": "3.7.9"
  }
 },
 "nbformat": 4,
 "nbformat_minor": 2
}
