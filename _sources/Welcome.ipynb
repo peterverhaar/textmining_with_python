{
 "cells": [
  {
   "cell_type": "markdown",
   "id": "dd6154b4",
   "metadata": {},
   "source": [
    "# Welcome\n",
    "\n",
    "This website explains the basics of text mining. The tutorial and its appendices were written using Jupyter Notebook. You can download the latest version of all the notebooks written for this tutorial at the following address:\n",
    "\n",
    "[Text Mining with Python](https://github.com/peterverhaar/textmining_with_python/zipball/master/)\n",
    "\n",
    "When you download and unzip this folder, make sure that you put the unzipped folder (notebooks) in a location that you can access from the Jupyter Notebook environment. Your home directory should be a good location.\n",
    "\n",
    "\n",
    "\n",
    "\n",
    "\n",
    " \n"
   ]
  },
  {
   "cell_type": "code",
   "execution_count": null,
   "id": "581acb98",
   "metadata": {},
   "outputs": [],
   "source": []
  }
 ],
 "metadata": {
  "kernelspec": {
   "display_name": "Python 3 (ipykernel)",
   "language": "python",
   "name": "python3"
  },
  "language_info": {
   "codemirror_mode": {
    "name": "ipython",
    "version": 3
   },
   "file_extension": ".py",
   "mimetype": "text/x-python",
   "name": "python",
   "nbconvert_exporter": "python",
   "pygments_lexer": "ipython3",
   "version": "3.7.9"
  }
 },
 "nbformat": 4,
 "nbformat_minor": 5
}
