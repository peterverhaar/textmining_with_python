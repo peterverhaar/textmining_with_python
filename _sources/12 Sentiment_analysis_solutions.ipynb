{
 "cells": [
  {
   "cell_type": "markdown",
   "metadata": {},
   "source": [
    "# 12. Sentiment analysis\n",
    "\n"
   ]
  },
  {
   "cell_type": "markdown",
   "metadata": {},
   "source": [
    "\n",
    "\n",
    "### Exercise 12.1\n",
    "\n",
    "Use the code below to download a file named 'ulysses_reviews.txt', available at [edu.nl/fyf8v](https://edu.nl/fyf8v)\n",
    "\n",
    "This file contains the full text of a number of reviews of James Joyce's novel *Ulysses* which were posted on the [goodReads](https://www.goodreads.com/book/show/338798.Ulysses) social reading platform. \n",
    "\n",
    "Can you select all the positive words from these reviews? Can you also select all the words with a negative connotation?\n",
    "Is the number of positive words higher than the number of than negative words?\n",
    "\n",
    "You can the steps below:\n",
    "\n",
    "1. Create two lists, named `positive_words` and `negative_words`.\n",
    "2. Tokenise the text file, and calculate the score for positivity and the score for negativity for each of these words. \n",
    "3. If the positivity score is higher than 0.75, append the word to the list named `positive_words`. If the negativitiy score is higher than 0.75, append the word to `negative_words`.\n",
    "4. Finally, you can subtract the length of the list `negative_words` from the length of the list `positive_words`"
   ]
  },
  {
   "cell_type": "code",
   "execution_count": null,
   "metadata": {},
   "outputs": [],
   "source": [
    "import requests\n",
    "\n",
    "response = requests.get('http://edu.nl/fyf8v')\n",
    "if response:\n",
    "    response.encoding = 'utf-8'\n",
    "    with open( 'ulysses_reviews.txt' , 'w' , encoding = 'utf-8') as out:\n",
    "        out.write(response.text)\n",
    "    "
   ]
  },
  {
   "cell_type": "code",
   "execution_count": null,
   "metadata": {},
   "outputs": [],
   "source": [
    "from nltk import word_tokenize\n",
    "reviews = open( 'ulysses_reviews.txt' , encoding = 'utf-8')\n",
    "\n",
    "from vaderSentiment.vaderSentiment import SentimentIntensityAnalyzer \n",
    "\n",
    "ana = SentimentIntensityAnalyzer()\n",
    "\n",
    "positive_words = []\n",
    "negative_words = []\n",
    "\n",
    "for line in reviews:\n",
    "    words = word_tokenize(line.lower())\n",
    "    for word in words:\n",
    "        scores = ana.polarity_scores(word)\n",
    "        if scores[\"pos\"] > 0.75:\n",
    "            positive_words.append(word)\n",
    "        elif scores[\"neg\"] > 0.75:\n",
    "            negative_words.append(word)\n",
    "        \n",
    "\n",
    "\n",
    "print(len(positive_words)-len(negative_words))\n",
    "\n",
    "print('Positive words:')\n",
    "\n",
    "for word in list(set(positive_words))[:20]:\n",
    "    print(word)\n",
    "    \n",
    "    \n",
    "print('\\nNegative words:')\n",
    "\n",
    "for word in list(set(negative_words))[:20]:\n",
    "    print(word)\n"
   ]
  },
  {
   "cell_type": "markdown",
   "metadata": {},
   "source": [
    "## Exercise 12.2\n",
    "\n",
    "What is the most negative sentence in these reviews of *Ulysses*? What is the most positive sentence? \n",
    "\n",
    "Try to implement the following steps:\n",
    "    \n",
    "1. Create a dictionary named `sent_scores` which can save the scores. In this dictionary, you can use sentences as keys, and the compound scores as values.    \n",
    "1. Navigate across all the lines in the file. Each line of the file is the full text of single review. \n",
    "2. Tokenisise the reviews into sentences.\n",
    "4. Navigate across all the sentences in these reviews and save the compound scores for these sentences in the dictionary `sent_scores`.\n",
    "5. Sort the dictionary named `sent_scores` in a descending order, and print the first few items it contain. The postive sentences will be shown at the top of the list. To see the negative sentence, you need to sort the dictionary in a descending order. \n",
    "\n",
    "Unfortunately, there is no standard function in Python that you can use to sort a dictionary by its values. This specific task can be performed using the function `sortedByValue()`, defined below. This function can opionally be used with a parameter named `ascending`. If the value of this parameter is `False`, the values will be sorted in a descending order. "
   ]
  },
  {
   "cell_type": "code",
   "execution_count": null,
   "metadata": {},
   "outputs": [],
   "source": [
    "def sortedByValue( dict , ascending = True ):\n",
    "    if ascending: \n",
    "        return {k: v for k, v in sorted(dict.items(), key=lambda item: item[1])}\n",
    "    else:\n",
    "        return {k: v for k, v in reversed( sorted(dict.items(), key=lambda item: item[1]))}\n",
    "\n",
    "\n",
    "from nltk import sent_tokenize\n",
    "sent_scores = dict()\n",
    "\n",
    "file = open( 'Ulysses_reviews.txt' , encoding = 'utf-8')\n",
    "\n",
    "for review in file:\n",
    "    sentences = sent_tokenize(review)\n",
    "    for s in sentences:\n",
    "        scores = ana.polarity_scores(s)\n",
    "        sent_scores[s] = scores['compound']\n",
    "        \n",
    "nr_sentences = 10\n",
    "\n",
    "i = 0\n",
    "\n",
    "print('\\nPostive sentences\\n')\n",
    "\n",
    "for s in sortedByValue( sent_scores , ascending = False ):\n",
    "    print( f'{s} [{ sent_scores[s]}]' )\n",
    "    i+= 1\n",
    "    if i == nr_sentences:\n",
    "        break\n",
    "        \n",
    "print('\\nNegative sentences\\n')\n",
    "i = 0\n",
    "        \n",
    "for s in sortedByValue( sent_scores , ascending = True):\n",
    "    print( f'{s} [{ sent_scores[s]}]' )\n",
    "    i+= 1\n",
    "    if i == nr_sentences:\n",
    "        break"
   ]
  },
  {
   "cell_type": "markdown",
   "metadata": {},
   "source": [
    "## Exercise 12.3"
   ]
  },
  {
   "cell_type": "markdown",
   "metadata": {},
   "source": [
    "Does *Ullyses* express more positivity than *Pride and Prejudice*? Try to answer this question by following the steps below:\n",
    "    \n",
    "1. Read in the full text of *Ullyses*\n",
    "2. Create an empty list, named for *all_scores* for instance, to capture all the scores. \n",
    "2. Divide the novel into its separate sentences.\n",
    "3. For each sentence, find the positive sentiment score. \n",
    "4. Add this score to the list *all_scores*.\n",
    "5. Once you have processed all the sentences, divide the sum of all the scores by by the total number of sentences. \n",
    "6. Follow steps 1-4 for the reviews *Pride and Prejudice*, and compare the two percentages you have calculated.\n"
   ]
  },
  {
   "cell_type": "code",
   "execution_count": null,
   "metadata": {},
   "outputs": [],
   "source": [
    "from nltk import sent_tokenize\n",
    "from os.path import join\n",
    "\n",
    "def average_score(file):\n",
    "    all_scores = []\n",
    "    file = open( file , encoding = 'utf-8' )\n",
    "    full_text = file.read()\n",
    "    sentences = sent_tokenize( full_text )\n",
    "    for s in sentences:\n",
    "        scores = ana.polarity_scores(s)\n",
    "        all_scores.append( scores[\"pos\"] )\n",
    "    return sum(all_scores) / len(all_scores)\n",
    "        \n",
    "\n",
    "path = join( '..', 'Corpus' , 'Ullyses.txt' )\n",
    "print( 'Average sentiment score for \"Ullyses\":' )\n",
    "print( f'{ round( average_score(path),3) }' )\n",
    "\n",
    "path = join( '..', 'Corpus' , 'PrideAndPrejudice.txt' )\n",
    "print( 'Average sentiment score for \"Pride and Prejudice\":' )\n",
    "print( f'{ round( average_score(path),3) }' )"
   ]
  }
 ],
 "metadata": {
  "kernelspec": {
   "display_name": "Python 3 (ipykernel)",
   "language": "python",
   "name": "python3"
  },
  "language_info": {
   "codemirror_mode": {
    "name": "ipython",
    "version": 3
   },
   "file_extension": ".py",
   "mimetype": "text/x-python",
   "name": "python",
   "nbconvert_exporter": "python",
   "pygments_lexer": "ipython3",
   "version": "3.7.9"
  }
 },
 "nbformat": 4,
 "nbformat_minor": 4
}
