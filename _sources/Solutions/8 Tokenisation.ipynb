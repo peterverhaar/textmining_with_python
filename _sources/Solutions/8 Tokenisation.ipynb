{
 "cells": [
  {
   "cell_type": "markdown",
   "metadata": {},
   "source": [
    "# 8. Tokenisation"
   ]
  },
  {
   "cell_type": "markdown",
   "metadata": {},
   "source": [
    "### Exercise 8.1.\n",
    "\n",
    "The 'Corpus' that you have downloaded as part of this tutorial contains the full text of 'Pride and Prejudice'. \n",
    "Write code that can help you to answer the following questions about this text:\n",
    "\n",
    "* How many characters are there in the novel?\n",
    "* How many words does the novel contain?\n",
    "* How often does the novel mention the word \"marriage\"?\n",
    "* How long are the words in *Pride and Prejudice* on average (measured in number of characters)?"
   ]
  },
  {
   "cell_type": "code",
   "execution_count": 8,
   "metadata": {},
   "outputs": [
    {
     "name": "stdout",
     "output_type": "stream",
     "text": [
      "The novel contains 685008 characters.\n",
      "The novel contains 143569 words.\n",
      "The word 'marriage' occurs 66 times.\n",
      "The words in this novel have 4.7713 characters on average\n"
     ]
    }
   ],
   "source": [
    "import nltk\n",
    "\n",
    "\n",
    "text_file = open('../Corpus/PrideAndPrejudice.txt',encoding='utf-8')\n",
    "full_text = text_file.read()\n",
    "\n",
    "words = nltk.word_tokenize(full_text)\n",
    "\n",
    "print(f\"The novel contains {len(full_text)} characters.\")\n",
    "print(f\"The novel contains {len(words)} words.\")\n",
    "\n",
    "keyword = 'marriage'\n",
    "\n",
    "print(f\"The word '{keyword}' occurs {words.count('marriage')} times.\")\n",
    "\n",
    "avg_length = len(full_text) / len(words)\n",
    "print(f\"The words in this novel have {round(avg_length,4)} characters on average\")"
   ]
  },
  {
   "cell_type": "markdown",
   "metadata": {},
   "source": [
    "### Exercise 8.2.\n",
    "\n",
    "Can you print the first five sentences of *Pride and Prejudice*?\n",
    "How many sentences does the novel contain in total?\n",
    "Building on the results of the previous exercise, can you calculate the average length of sentences? In other words, how many tokens do the sentences contain on average?"
   ]
  },
  {
   "cell_type": "code",
   "execution_count": 14,
   "metadata": {},
   "outputs": [
    {
     "name": "stdout",
     "output_type": "stream",
     "text": [
      "The first five sentences in \"Pride and Prejudice\": \n",
      "CHAPTER I.\n",
      "\n",
      "It is a truth universally acknowledged, that a single man in possession of a good fortune, must be in want of a wife.\n",
      "\n",
      "However little known the feelings or views of such a man may be on his first entering a neighbourhood, this truth is so well fixed in the minds of the surrounding families, that he is considered as the rightful property of some one or other of their daughters.\n",
      "\n",
      "\"My dear Mr. Bennet,\" said his lady to him one day, \"have you heard that Netherfield Park is let at last?\"\n",
      "\n",
      "Mr. Bennet replied that he had not.\n",
      "\n",
      "The sentences in the novel contain 24.5585 words on average.\n"
     ]
    }
   ],
   "source": [
    "from nltk import sent_tokenize,word_tokenize\n",
    "\n",
    "text_file = open('../Corpus/PrideAndPrejudice.txt',encoding='utf-8')\n",
    "full_text = text_file.read()\n",
    "\n",
    "print('The first five sentences in \"Pride and Prejudice\": ')\n",
    "\n",
    "sentences = sent_tokenize(full_text)\n",
    "words = word_tokenize(full_text)\n",
    "\n",
    "for sentence in sentences[:5]:\n",
    "    print(sentence + '\\n')\n",
    "    \n",
    "avg_words = len(words)/len(sentences)\n",
    "print(f'The sentences in the novel contain {round(avg_words,4)} words on average.')\n"
   ]
  },
  {
   "cell_type": "markdown",
   "metadata": {},
   "source": [
    "### Exercise 8.3.\n",
    "\n",
    "What is the longest word in the novel *Ullyses*?"
   ]
  },
  {
   "cell_type": "code",
   "execution_count": 18,
   "metadata": {},
   "outputs": [
    {
     "name": "stdout",
     "output_type": "stream",
     "text": [
      "[\n",
      "Stately\n",
      "Mulligan\n",
      "stairhead\n",
      "dressinggown\n",
      "scrotumtightening\n",
      "Steeeeeeeeeeeephen\n",
      "contransmagnificandjewbangtantiality\n",
      "sudden—at—the—moment—though—from—lingering—illness—often—previously—expectorated—demise\n"
     ]
    }
   ],
   "source": [
    "from nltk import sent_tokenize,word_tokenize\n",
    "\n",
    "text_file = open('../Corpus/Ullyses.txt',encoding='utf-8')\n",
    "full_text = text_file.read()\n",
    "\n",
    "words = word_tokenize(full_text)\n",
    "\n",
    "longest = ''\n",
    "for word in words:\n",
    "    if len(word)>len(longest):\n",
    "        print(word)\n",
    "        longest = word.lower()"
   ]
  }
 ],
 "metadata": {
  "kernelspec": {
   "display_name": "Python 3 (ipykernel)",
   "language": "python",
   "name": "python3"
  },
  "language_info": {
   "codemirror_mode": {
    "name": "ipython",
    "version": 3
   },
   "file_extension": ".py",
   "mimetype": "text/x-python",
   "name": "python",
   "nbconvert_exporter": "python",
   "pygments_lexer": "ipython3",
   "version": "3.7.9"
  }
 },
 "nbformat": 4,
 "nbformat_minor": 2
}
