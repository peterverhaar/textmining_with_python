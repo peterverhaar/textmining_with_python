{
 "cells": [
  {
   "cell_type": "markdown",
   "metadata": {},
   "source": [
    "# 6. Working with files and folders¶"
   ]
  },
  {
   "cell_type": "markdown",
   "metadata": {},
   "source": [
    "### Exercise 6.1. \n",
    "\n",
    "Working with the `os.listdir()` method, print a sentence which gives information about the number of files in the folder named 'Corpus'."
   ]
  },
  {
   "cell_type": "code",
   "execution_count": 4,
   "metadata": {},
   "outputs": [
    {
     "name": "stdout",
     "output_type": "stream",
     "text": [
      "The folder named \"Corpus\" contains 4 texts\n"
     ]
    }
   ],
   "source": [
    "import os\n",
    "directory = '../Corpus'\n",
    "files = os.listdir(directory)\n",
    "print( f'The folder named \"Corpus\" contains {len(files)} texts')"
   ]
  },
  {
   "cell_type": "markdown",
   "metadata": {},
   "source": [
    "### Exercise 6.2.\n",
    "\n",
    "Using the code discussed above, print the full text of Shakespeare's *Sonnet 116* on your screen, and make sure that you also add line numbers, as follows:\n",
    "    \n",
    "```\n",
    "1. [line1]\n",
    "2. [line2]\n",
    "```"
   ]
  },
  {
   "cell_type": "code",
   "execution_count": 10,
   "metadata": {},
   "outputs": [
    {
     "name": "stdout",
     "output_type": "stream",
     "text": [
      "1. Let me not to the marriage of true minds\n",
      "2. Admit impediments. Love is not love\n",
      "3. Which alters when it alteration finds,\n",
      "4. Or bends with the remover to remove:\n",
      "5. O, no! it is an ever-fixed mark,\n",
      "6. That looks on tempests and is never shaken;\n",
      "7. It is the star to every wandering bark,\n",
      "8. Whose worth’s unknown, although his height be taken.\n",
      "9. Love’s not Time’s fool, though rosy lips and cheeks\n",
      "10. Within his bending sickle’s compass come;\n",
      "11. Love alters not with his brief hours and weeks,\n",
      "12. But bears it out even to the edge of doom.\n",
      "13. If this be error and upon me proved,\n",
      "14. I never writ, nor no man ever loved.\n"
     ]
    }
   ],
   "source": [
    "import os\n",
    "path = os.path.join('..','Corpus','Sonnet116.txt')\n",
    "\n",
    "file = open(path,encoding='utf-8')\n",
    "\n",
    "line_number = 0\n",
    "for line in file:\n",
    "    line_number+=1\n",
    "    \n",
    "    print(f\"{line_number}. {line.strip()}\")"
   ]
  },
  {
   "cell_type": "markdown",
   "metadata": {},
   "source": [
    "### Exercise 6.3.\n",
    "\n",
    "Building on the code you wrote for exercise 8.1, create a new text file containing the NUMBERED lines of Shakespeare's *Sonnet 116*. As a file name, use \"sonnet166_numbered.txt\", to make sure that you do not overwrite the existing file. "
   ]
  },
  {
   "cell_type": "code",
   "execution_count": 12,
   "metadata": {},
   "outputs": [],
   "source": [
    "import os\n",
    "path = os.path.join('..','Corpus','Sonnet116.txt')\n",
    "\n",
    "file = open(path,encoding='utf-8')\n",
    "\n",
    "out = open(\"sonnet166_numbered.txt\",'w',encoding='utf-8')\n",
    "\n",
    "line_number = 0\n",
    "for line in file:\n",
    "    line_number+=1\n",
    "    \n",
    "    out.write(f\"{line_number}. {line.strip()}\\n\")\n",
    "    \n",
    "out.close()"
   ]
  },
  {
   "cell_type": "markdown",
   "metadata": {},
   "source": [
    "### Exercise 6.4.\n",
    "\n",
    "Create a CSV file listing the names of all the files in the subfolder named \"Corpus\", together with the number of characters in each of these files. The number of characters can be found using the `len()` function. The header should specify 'text' and 'nr_characters' as column names. "
   ]
  },
  {
   "cell_type": "code",
   "execution_count": 16,
   "metadata": {},
   "outputs": [],
   "source": [
    "import os\n",
    "directory = '../Corpus'\n",
    "files = os.listdir(directory)\n",
    "\n",
    "out = open('corpus.csv','w',encoding='utf-8')\n",
    "\n",
    "out.write('text,nr_characters\\n')\n",
    "\n",
    "for file in files:\n",
    "    path = os.path.join(directory,file)\n",
    "    corpus_file = open(path,encoding='utf-8')\n",
    "    full_text = corpus_file.read()\n",
    "    nr_chars = len(full_text)\n",
    "    out.write(f\"{file},{nr_chars}\\n\")\n",
    "        \n",
    "out.close()"
   ]
  },
  {
   "cell_type": "code",
   "execution_count": null,
   "metadata": {},
   "outputs": [],
   "source": []
  }
 ],
 "metadata": {
  "kernelspec": {
   "display_name": "Python 3 (ipykernel)",
   "language": "python",
   "name": "python3"
  },
  "language_info": {
   "codemirror_mode": {
    "name": "ipython",
    "version": 3
   },
   "file_extension": ".py",
   "mimetype": "text/x-python",
   "name": "python",
   "nbconvert_exporter": "python",
   "pygments_lexer": "ipython3",
   "version": "3.7.9"
  }
 },
 "nbformat": 4,
 "nbformat_minor": 2
}
